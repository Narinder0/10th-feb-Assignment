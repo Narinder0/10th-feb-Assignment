{
 "cells": [
  {
   "cell_type": "code",
   "execution_count": 4,
   "id": "9f860727-bca8-448b-a949-ddafba4852c1",
   "metadata": {},
   "outputs": [],
   "source": [
    "def product_num(lst):\n",
    "    flat_num = []\n",
    "    def flatten(l):\n",
    "        for i in l:\n",
    "            if type(i) == int or type(i) == float:\n",
    "                flat_num.append(i)\n",
    "            elif type(i) == list or type(i) == dict:\n",
    "                flatten(i)\n",
    "    flatten(lst)\n",
    "    product = 1\n",
    "    for num in flat_num:\n",
    "        product *= num\n",
    "    return product\n",
    "    "
   ]
  },
  {
   "cell_type": "code",
   "execution_count": 5,
   "id": "98b0ce13-10b8-46bd-93e8-ce9d072fdb1b",
   "metadata": {},
   "outputs": [
    {
     "name": "stdout",
     "output_type": "stream",
     "text": [
      "362880\n"
     ]
    }
   ],
   "source": [
    "list1 = [1, 2, 3, [4, 5, [6, 7, 8]], 9]\n",
    "result = product_num(list1)\n",
    "print(result)"
   ]
  },
  {
   "cell_type": "code",
   "execution_count": 17,
   "id": "2461ddf5-8a54-4bd8-839b-13c1036daa82",
   "metadata": {},
   "outputs": [],
   "source": [
    "def product_num(lst):\n",
    "    flat_num = []\n",
    "    def flatten(l):\n",
    "        for i in l:\n",
    "            if type(i) == int or type(i) == float:\n",
    "                flat_num.append(i)\n",
    "            elif type(i) == dict:\n",
    "                for key,value in i.items():\n",
    "                    if type(key) == int or type(key) == float:\n",
    "                        flat_num.append(key)\n",
    "                    if type(value) == int or type(value) == float:\n",
    "                        flat_num.append(value)\n",
    "                    elif type(value) == list or type(value) == tuple:\n",
    "                         flatten(value)\n",
    "            elif type(i) == list or type(i) == tuple:\n",
    "                flatten(i)\n",
    "    flatten(lst)\n",
    "    product = 1\n",
    "    for num in flat_num:\n",
    "        product *= num\n",
    "    return product    "
   ]
  },
  {
   "cell_type": "code",
   "execution_count": 18,
   "id": "5b9fa569-b069-475f-90f7-5e57d36a85be",
   "metadata": {},
   "outputs": [
    {
     "name": "stdout",
     "output_type": "stream",
     "text": [
      "689118639831180913138973540352000\n"
     ]
    }
   ],
   "source": [
    "list1 = [1,2,3,4, [44,55,66, True], False, (34,56,78,89,34), {1,2,3,3,2,1}, {1:34, \"key2\": [55, [67, 78], 89], 4: (45,\n",
    "22, 61, 34)}, [56, 'data science'], 'Machine Learning']\n",
    "result = product_num(list1)\n",
    "print(result)"
   ]
  },
  {
   "cell_type": "code",
   "execution_count": 19,
   "id": "99b90192-83a4-402e-bb1a-de8964c6716f",
   "metadata": {},
   "outputs": [
    {
     "name": "stdout",
     "output_type": "stream",
     "text": [
      "i$wznt$to$yexome$z$dztz$sxientist.\n"
     ]
    }
   ],
   "source": [
    "def encrypt_sentence(sentence):\n",
    "    sentence = sentence.lower() # Convert to lowercase\n",
    "    encryption_map = {'a': 'z', 'b': 'y', 'c': 'x', ' ': '$'}\n",
    "    encrypted_sentence = ''\n",
    "    for char in sentence:\n",
    "        encrypted_sentence += encryption_map.get(char, char)\n",
    "    return encrypted_sentence\n",
    "\n",
    "sentence = \"I want to become a Data Scientist.\"\n",
    "encrypted_sentence = encrypt_sentence(sentence)\n",
    "print(encrypted_sentence)\n"
   ]
  }
 ],
 "metadata": {
  "kernelspec": {
   "display_name": "Python 3 (ipykernel)",
   "language": "python",
   "name": "python3"
  },
  "language_info": {
   "codemirror_mode": {
    "name": "ipython",
    "version": 3
   },
   "file_extension": ".py",
   "mimetype": "text/x-python",
   "name": "python",
   "nbconvert_exporter": "python",
   "pygments_lexer": "ipython3",
   "version": "3.10.8"
  }
 },
 "nbformat": 4,
 "nbformat_minor": 5
}

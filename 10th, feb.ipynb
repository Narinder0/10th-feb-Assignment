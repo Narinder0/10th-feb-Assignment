{
 "cells": [
  {
   "cell_type": "code",
   "execution_count": 1,
   "id": "5ed003c7-aca5-447c-a78f-f6f7e4ab73c8",
   "metadata": {},
   "outputs": [
    {
     "data": {
      "text/plain": [
       "'# open in write mode\\n f = open(\"test.txt\" , \"w\")\\n#  open in read mode\\n f = open(\"test1.txt\" , \"r\")\\n# open in \\'a\\' mode for new data appended \\n f = open(\"test2.txt\" , \"a\")\\n#  open file in binary mode for wtiting binary \\n f = open(\"test3.bin\" , \"bw\")'"
      ]
     },
     "execution_count": 1,
     "metadata": {},
     "output_type": "execute_result"
    }
   ],
   "source": [
    "''' 1st Answer\n",
    "* open(\"filename\" , 'mode')\n",
    "* mode of opening files\n",
    "There is more mode for open files'''\n",
    "# open in write mode\n",
    " f = open(\"test.txt\" , \"w\")\n",
    "#  open in read mode\n",
    " f = open(\"test1.txt\" , \"r\")\n",
    "# open in 'a' mode for new data appended \n",
    " f = open(\"test2.txt\" , \"a\")\n",
    "#  open file in binary mode for wtiting binary \n",
    " f = open(\"test3.bin\" , \"bw\")"
   ]
  },
  {
   "cell_type": "code",
   "execution_count": 2,
   "id": "0cb44f06-d510-4ad6-ac35-023c971bbe89",
   "metadata": {},
   "outputs": [
    {
     "data": {
      "text/plain": [
       "'# we can close the files into two ways\\nf=open(\"test.txt\" , \"w\")\\nf.close()'"
      ]
     },
     "execution_count": 2,
     "metadata": {},
     "output_type": "execute_result"
    }
   ],
   "source": [
    "''' 2nd Answer\n",
    "we use close() to close the open file. it is important because if we can't close the open file\n",
    "then the memory should leak and also we don't the file is containg the content what we have written\n",
    "one file'''\n",
    "# we can close the files into two ways\n",
    "f=open(\"test.txt\" , \"w\")\n",
    "f.close()"
   ]
  },
  {
   "cell_type": "code",
   "execution_count": 3,
   "id": "73388923-53f0-4a6f-b289-ade649868b07",
   "metadata": {},
   "outputs": [
    {
     "data": {
      "text/plain": [
       "33"
      ]
     },
     "execution_count": 3,
     "metadata": {},
     "output_type": "execute_result"
    }
   ],
   "source": [
    "''' 3rd Answer'''\n",
    "f = open(\"test2.txt\" , \"w\")\n",
    "f.write(\"I want to become a Data Scientist\")"
   ]
  },
  {
   "cell_type": "code",
   "execution_count": 4,
   "id": "2be89b09-59f1-487c-8ff6-297e34c99659",
   "metadata": {},
   "outputs": [],
   "source": [
    "f.close()"
   ]
  },
  {
   "cell_type": "code",
   "execution_count": 6,
   "id": "e3fa1d2e-5e80-4c3d-976c-7964019838c8",
   "metadata": {},
   "outputs": [
    {
     "data": {
      "text/plain": [
       "583"
      ]
     },
     "execution_count": 6,
     "metadata": {},
     "output_type": "execute_result"
    }
   ],
   "source": [
    "''' 6th Answer\n",
    "* write()\n",
    "*writelines()'''\n",
    "f = open(\"test3.txt\" , \"w\")\n",
    "f.write(\"Data Science Masters course is highly curated and uniquely designed according to the latest industry standards. This program instills students the skills essential to knowledge discovery efforts to identify standard, novel, and truly differentiated solutions and decision-making, including skills in managing, querying, analyzing, visualizing, and extracting meaning from extremely large data sets. This trending program provides students with the statistical, mathematical and computational skills needed to meet the large-scale data science challenges of today's professional world\")"
   ]
  },
  {
   "cell_type": "code",
   "execution_count": 7,
   "id": "1b769f4d-6c06-49c2-aca6-945091a376b6",
   "metadata": {},
   "outputs": [],
   "source": [
    "f.close()"
   ]
  },
  {
   "cell_type": "code",
   "execution_count": 8,
   "id": "662d2bf3-74e4-4a72-b007-d89ae774355f",
   "metadata": {},
   "outputs": [],
   "source": [
    "lines = [\"Data Science Masters course is highly curated and uniquely designed according to the latest industry standards.\\n\" , \"This program instills students the skills essential to knowledge discovery efforts to identify standard, novel, and truly differentiated solutions and decision-making, including skills in managing, querying, analyzing, visualizing, and extracting meaning from extremely large data sets.\\n\" , \"This trending program provides students with the statistical, mathematical and computational skills needed to meet the large-scale data science challenges of today's professional world.\\n\" , \"You will learn all the stack required to work in data science industry including cloud infrastructure and real-time industry projects.\\n\" , \"This course will be taught in Hindi language.\\n\"]\n",
    "with open(\"text4.txt\" , \"a\") as f:\n",
    "    f.writelines(lines)"
   ]
  },
  {
   "cell_type": "code",
   "execution_count": 9,
   "id": "baebd904-9d8d-4a7b-8b47-b857ba0799c9",
   "metadata": {},
   "outputs": [
    {
     "name": "stdout",
     "output_type": "stream",
     "text": [
      "Data Science Masters course is highly curated and uniquely designed according to the latest industry standards. This program instills students the skills essential to knowledge discovery efforts to identify standard, novel, and truly differentiated solutions and decision-making, including skills in managing, querying, analyzing, visualizing, and extracting meaning from extremely large data sets. This trending program provides students with the statistical, mathematical and computational skills needed to meet the large-scale data science challenges of today's professional world\n"
     ]
    }
   ],
   "source": [
    "''' 4rd Answer'''\n",
    "# read() mode. it gives the entire contents of the files\n",
    "with open(\"test3.txt\", \"r\") as f:\n",
    "    contents = f.read()\n",
    "    print(contents)"
   ]
  },
  {
   "cell_type": "code",
   "execution_count": 10,
   "id": "b284cee9-defa-4f8f-805f-530e15389a0a",
   "metadata": {},
   "outputs": [
    {
     "name": "stdout",
     "output_type": "stream",
     "text": [
      "Data Science Masters course is highly curated and uniquely designed according to the latest industry standards. This program instills students the skills essential to knowledge discovery efforts to identify standard, novel, and truly differentiated solutions and decision-making, including skills in managing, querying, analyzing, visualizing, and extracting meaning from extremely large data sets. This trending program provides students with the statistical, mathematical and computational skills needed to meet the large-scale data science challenges of today's professional world"
     ]
    }
   ],
   "source": [
    "with open(\"test3.txt\", \"r\") as f:\n",
    "    line = f.readline()\n",
    "    while line:\n",
    "        print(line, end=\"\")\n",
    "        line = f.readline()\n"
   ]
  },
  {
   "cell_type": "code",
   "execution_count": 11,
   "id": "58e84486-e8fb-462a-a79f-d27d91c60368",
   "metadata": {},
   "outputs": [
    {
     "name": "stdout",
     "output_type": "stream",
     "text": [
      "Data Science Masters course is highly curated and uniquely designed according to the latest industry standards. This program instills students the skills essential to knowledge discovery efforts to identify standard, novel, and truly differentiated solutions and decision-making, including skills in managing, querying, analyzing, visualizing, and extracting meaning from extremely large data sets. This trending program provides students with the statistical, mathematical and computational skills needed to meet the large-scale data science challenges of today's professional world"
     ]
    }
   ],
   "source": [
    "with open(\"test3.txt\", \"r\") as f:\n",
    "    lines = f.readlines()\n",
    "    for line in lines:\n",
    "        print(line, end=\"\")\n"
   ]
  },
  {
   "cell_type": "code",
   "execution_count": 13,
   "id": "41c69df6-53b0-4532-be8e-c1ce378f9b63",
   "metadata": {},
   "outputs": [],
   "source": [
    "''' 5th Answer\n",
    "with open()'''\n",
    "# this method is used to prevent the use of \n",
    "with open(\"test5.txt\" , \"w\") as f:\n",
    "    f.write(\"my name is narinder\")"
   ]
  },
  {
   "cell_type": "code",
   "execution_count": null,
   "id": "b8d25cf8-6a74-486b-be48-28a3d8858347",
   "metadata": {},
   "outputs": [],
   "source": []
  }
 ],
 "metadata": {
  "kernelspec": {
   "display_name": "Python 3 (ipykernel)",
   "language": "python",
   "name": "python3"
  },
  "language_info": {
   "codemirror_mode": {
    "name": "ipython",
    "version": 3
   },
   "file_extension": ".py",
   "mimetype": "text/x-python",
   "name": "python",
   "nbconvert_exporter": "python",
   "pygments_lexer": "ipython3",
   "version": "3.10.8"
  }
 },
 "nbformat": 4,
 "nbformat_minor": 5
}

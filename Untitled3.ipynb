{
 "cells": [
  {
   "cell_type": "code",
   "execution_count": 11,
   "id": "14ea1ed7-709a-4e1c-a5f8-040dc4dd8b94",
   "metadata": {},
   "outputs": [],
   "source": [
    "''' 1st Questuion\n",
    "Abstraction is a process of hiding the complexity of a system and showing only the essential features to the user.\n",
    "in this user can get the access of all the fuction accept the implementation code of the function'''\n",
    "class car:\n",
    "    def __init__(self,company,color):\n",
    "        self.company = company\n",
    "        self.color = color\n",
    "    \n",
    "    def start(self):\n",
    "        print(\"starting the car\")\n",
    "        \n",
    "    def stop(self):\n",
    "        print(\"stop the car\")"
   ]
  },
  {
   "cell_type": "code",
   "execution_count": 12,
   "id": "f9851d13-7e53-4240-869d-8651e53f721f",
   "metadata": {},
   "outputs": [],
   "source": [
    "my_car = car(\"BMW\",\"Black\")"
   ]
  },
  {
   "cell_type": "code",
   "execution_count": 15,
   "id": "f48a401c-e33d-4d35-a203-d481c5226139",
   "metadata": {},
   "outputs": [
    {
     "data": {
      "text/plain": [
       "'BMW'"
      ]
     },
     "execution_count": 15,
     "metadata": {},
     "output_type": "execute_result"
    }
   ],
   "source": [
    "my_car.company"
   ]
  },
  {
   "cell_type": "code",
   "execution_count": 16,
   "id": "a0714122-f060-47ee-9eea-d4527b60af57",
   "metadata": {},
   "outputs": [
    {
     "data": {
      "text/plain": [
       "'Black'"
      ]
     },
     "execution_count": 16,
     "metadata": {},
     "output_type": "execute_result"
    }
   ],
   "source": [
    "my_car.color"
   ]
  },
  {
   "cell_type": "code",
   "execution_count": 17,
   "id": "e5e0c821-49ca-405d-bf59-eba55d106aa1",
   "metadata": {},
   "outputs": [
    {
     "name": "stdout",
     "output_type": "stream",
     "text": [
      "starting the car\n"
     ]
    }
   ],
   "source": [
    "my_car.color"
   ]
  },
  {
   "cell_type": "code",
   "execution_count": 18,
   "id": "aae3feb7-443b-409f-bf4c-694a7b05fde6",
   "metadata": {},
   "outputs": [
    {
     "name": "stdout",
     "output_type": "stream",
     "text": [
      "stop the car\n"
     ]
    }
   ],
   "source": [
    "my_car.stop()"
   ]
  },
  {
   "cell_type": "code",
   "execution_count": 20,
   "id": "35c525b6-2cdf-4181-b360-8d4e780e43e8",
   "metadata": {},
   "outputs": [],
   "source": [
    "''' 2nd Question\n",
    "Abstraction'''\n",
    "class Circle:\n",
    "    def __init__(self,radius):\n",
    "        self.radius = radius\n",
    "        \n",
    "    def area_of_circle(self):\n",
    "        area = 3.14 * self.radius * self.radius\n",
    "        return area\n",
    "   \n",
    "\n",
    "    def perimeter_of_circle(self):\n",
    "        perimeter = 2 * 3.14 * self.radius\n",
    "        return perimeter"
   ]
  },
  {
   "cell_type": "code",
   "execution_count": 21,
   "id": "a6940fed-23fa-4549-ba2e-d1b6ab9c20ca",
   "metadata": {},
   "outputs": [],
   "source": [
    "circle = Circle(4)"
   ]
  },
  {
   "cell_type": "code",
   "execution_count": 23,
   "id": "c83638ad-f94f-4249-b2a0-4bcf8164111b",
   "metadata": {},
   "outputs": [
    {
     "name": "stdout",
     "output_type": "stream",
     "text": [
      "Area of circle is:- 50.24\n"
     ]
    }
   ],
   "source": [
    "print(\"Area of circle is:-\",circle.area_of_circle())"
   ]
  },
  {
   "cell_type": "code",
   "execution_count": 24,
   "id": "9566c952-ef44-4561-b610-ddcbef79ae1c",
   "metadata": {},
   "outputs": [
    {
     "data": {
      "text/plain": [
       "25.12"
      ]
     },
     "execution_count": 24,
     "metadata": {},
     "output_type": "execute_result"
    }
   ],
   "source": [
    "circle.perimeter_of_circle()"
   ]
  },
  {
   "cell_type": "code",
   "execution_count": 25,
   "id": "61cf171b-731b-4192-9657-471fccd2a6ed",
   "metadata": {},
   "outputs": [
    {
     "data": {
      "text/plain": [
       "4"
      ]
     },
     "execution_count": 25,
     "metadata": {},
     "output_type": "execute_result"
    }
   ],
   "source": [
    "circle.radius"
   ]
  },
  {
   "cell_type": "code",
   "execution_count": 65,
   "id": "f76dbe8b-ec6a-43fa-aeee-a91fdc111750",
   "metadata": {},
   "outputs": [],
   "source": [
    "''' Encapsulation'''\n",
    "class Rectangle:\n",
    "    def __init__(self,length,breadth):\n",
    "        self._length = length\n",
    "        self._breadth = breadth\n",
    "        \n",
    "    def area_of_rectangle(self):\n",
    "        return self._length * self._breadth\n",
    "    \n",
    "    def perimeter_of_rectangle(self):\n",
    "        return 2 * self._length + self._breadth\n",
    "    \n",
    "    def get_length(self):\n",
    "        return self._length\n",
    "    \n",
    "    def get_breadth(self):\n",
    "        return self._breadth"
   ]
  },
  {
   "cell_type": "code",
   "execution_count": 66,
   "id": "5ec1a316-7475-45da-83b7-75a9ad44f97c",
   "metadata": {},
   "outputs": [],
   "source": [
    "rectangle = Rectangle(12,6)"
   ]
  },
  {
   "cell_type": "code",
   "execution_count": 67,
   "id": "c98623cf-ae44-4d8b-8218-b788e3db4fd7",
   "metadata": {},
   "outputs": [
    {
     "data": {
      "text/plain": [
       "72"
      ]
     },
     "execution_count": 67,
     "metadata": {},
     "output_type": "execute_result"
    }
   ],
   "source": [
    "rectangle.area_of_rectangle()"
   ]
  },
  {
   "cell_type": "code",
   "execution_count": 68,
   "id": "bba233e9-6622-42b8-8d76-d12148366bb7",
   "metadata": {},
   "outputs": [
    {
     "name": "stdout",
     "output_type": "stream",
     "text": [
      "Perimeter of rectangle:- 30\n"
     ]
    }
   ],
   "source": [
    "print(\"Perimeter of rectangle:-\",rectangle.perimeter_of_rectangle())"
   ]
  },
  {
   "cell_type": "code",
   "execution_count": 69,
   "id": "b4d179f7-05d2-42f6-8f94-af1feb7452c1",
   "metadata": {},
   "outputs": [
    {
     "ename": "AttributeError",
     "evalue": "'Rectangle' object has no attribute 'length'",
     "output_type": "error",
     "traceback": [
      "\u001b[0;31m---------------------------------------------------------------------------\u001b[0m",
      "\u001b[0;31mAttributeError\u001b[0m                            Traceback (most recent call last)",
      "Cell \u001b[0;32mIn[69], line 3\u001b[0m\n\u001b[1;32m      1\u001b[0m \u001b[38;5;124;03m''' here i am trying to get the direct access of data it gives me error in encapsulation but in abstraction we can\u001b[39;00m\n\u001b[1;32m      2\u001b[0m \u001b[38;5;124;03mdirectly call the data not in encapsulation'''\u001b[39;00m\n\u001b[0;32m----> 3\u001b[0m \u001b[43mrectangle\u001b[49m\u001b[38;5;241;43m.\u001b[39;49m\u001b[43mlength\u001b[49m\n",
      "\u001b[0;31mAttributeError\u001b[0m: 'Rectangle' object has no attribute 'length'"
     ]
    }
   ],
   "source": [
    "''' here i am trying to get the direct access of data it gives me error in encapsulation but in abstraction we can\n",
    "directly call the data not in encapsulation'''\n",
    "rectangle.length"
   ]
  },
  {
   "cell_type": "code",
   "execution_count": 70,
   "id": "2bd71eac-ca1f-4c1f-89f8-6a18eccd3d4f",
   "metadata": {},
   "outputs": [
    {
     "data": {
      "text/plain": [
       "12"
      ]
     },
     "execution_count": 70,
     "metadata": {},
     "output_type": "execute_result"
    }
   ],
   "source": [
    "rectangle.get_length()"
   ]
  },
  {
   "cell_type": "code",
   "execution_count": 71,
   "id": "51a08184-6a11-47f7-9033-0a3f5309de91",
   "metadata": {},
   "outputs": [
    {
     "data": {
      "text/plain": [
       "6"
      ]
     },
     "execution_count": 71,
     "metadata": {},
     "output_type": "execute_result"
    }
   ],
   "source": [
    "rectangle.get_breadth()"
   ]
  },
  {
   "cell_type": "code",
   "execution_count": 10,
   "id": "01e06a36-4d84-4607-bc9b-e57efee19802",
   "metadata": {},
   "outputs": [],
   "source": [
    "''' 3rd Question\n",
    "if we made a @bstractmethod then it should must be use in by other class'''\n",
    "from abc import ABC, abstractmethod\n",
    "class demo(ABC):\n",
    "    @abstractmethod\n",
    "    def area(self):\n",
    "        pass\n",
    "    \n",
    "    @abstractmethod\n",
    "    def perimeter(self):\n",
    "        pass\n",
    "\n",
    "class circle(demo):\n",
    "    def __init__(self,radius):\n",
    "        self.radius = radius\n",
    "      \n",
    "    def area(self):\n",
    "        return 3.14 * self.radius * self.radius\n",
    "    \n",
    "    def perimeter(self):\n",
    "        return 2 * 3.14 * self.radius"
   ]
  },
  {
   "cell_type": "code",
   "execution_count": 11,
   "id": "b8a3bec0-b0b1-4b18-8868-1b8d4bb76364",
   "metadata": {},
   "outputs": [
    {
     "ename": "TypeError",
     "evalue": "Can't instantiate abstract class demo with abstract methods area, perimeter",
     "output_type": "error",
     "traceback": [
      "\u001b[0;31m---------------------------------------------------------------------------\u001b[0m",
      "\u001b[0;31mTypeError\u001b[0m                                 Traceback (most recent call last)",
      "Cell \u001b[0;32mIn[11], line 2\u001b[0m\n\u001b[1;32m      1\u001b[0m \u001b[38;5;124;03m'''it can't instantiate. it is like a feature of abc abstractmethod'''\u001b[39;00m\n\u001b[0;32m----> 2\u001b[0m d \u001b[38;5;241m=\u001b[39m \u001b[43mdemo\u001b[49m\u001b[43m(\u001b[49m\u001b[43m)\u001b[49m\n",
      "\u001b[0;31mTypeError\u001b[0m: Can't instantiate abstract class demo with abstract methods area, perimeter"
     ]
    }
   ],
   "source": [
    "'''it can't instantiate. it is like a feature of abc abstractmethod'''\n",
    "d = demo()"
   ]
  },
  {
   "cell_type": "code",
   "execution_count": 12,
   "id": "bdc9dedc-cd86-4dea-9e69-b84ba998bd0c",
   "metadata": {},
   "outputs": [],
   "source": [
    "c = circle(4)"
   ]
  },
  {
   "cell_type": "code",
   "execution_count": 13,
   "id": "04e4fcfe-37c4-48c1-9c52-66e4b037b6c4",
   "metadata": {},
   "outputs": [
    {
     "name": "stdout",
     "output_type": "stream",
     "text": [
      "50.24\n"
     ]
    }
   ],
   "source": [
    "print(c.area())"
   ]
  },
  {
   "cell_type": "code",
   "execution_count": 14,
   "id": "ce1d8039-a744-4d1a-9f2a-253140c3db2e",
   "metadata": {},
   "outputs": [
    {
     "data": {
      "text/plain": [
       "25.12"
      ]
     },
     "execution_count": 14,
     "metadata": {},
     "output_type": "execute_result"
    }
   ],
   "source": [
    "c.perimeter()"
   ]
  },
  {
   "cell_type": "code",
   "execution_count": 18,
   "id": "a49fe4d7-7bee-456e-bbe2-709a4337da5c",
   "metadata": {},
   "outputs": [],
   "source": [
    "''' if i can't use @abstractmethod in other class then it give me an error'''\n",
    "from abc import ABC, abstractmethod\n",
    "class demo(ABC):\n",
    "    @abstractmethod\n",
    "    def area(self):\n",
    "        pass\n",
    "    \n",
    "    @abstractmethod\n",
    "    def perimeter(self):\n",
    "        pass\n",
    "    \n",
    "class square(demo):\n",
    "    pass"
   ]
  },
  {
   "cell_type": "code",
   "execution_count": 20,
   "id": "cf617650-1499-47df-8fb2-8b581ed60458",
   "metadata": {},
   "outputs": [
    {
     "ename": "TypeError",
     "evalue": "Can't instantiate abstract class square with abstract methods area, perimeter",
     "output_type": "error",
     "traceback": [
      "\u001b[0;31m---------------------------------------------------------------------------\u001b[0m",
      "\u001b[0;31mTypeError\u001b[0m                                 Traceback (most recent call last)",
      "Cell \u001b[0;32mIn[20], line 1\u001b[0m\n\u001b[0;32m----> 1\u001b[0m s \u001b[38;5;241m=\u001b[39m \u001b[43msquare\u001b[49m\u001b[43m(\u001b[49m\u001b[43m)\u001b[49m\n",
      "\u001b[0;31mTypeError\u001b[0m: Can't instantiate abstract class square with abstract methods area, perimeter"
     ]
    }
   ],
   "source": [
    "s = square()"
   ]
  },
  {
   "cell_type": "code",
   "execution_count": 21,
   "id": "8fcc9e32-d03e-45dc-bd2b-a1839f495948",
   "metadata": {},
   "outputs": [
    {
     "data": {
      "text/plain": [
       "'4th Question\\n* we can achive data abstraction.\\n1 absrtaction through function\\n2 abstraction through classes\\n3 through ABC abstraction method\\n4 Encapsulation '"
      ]
     },
     "execution_count": 21,
     "metadata": {},
     "output_type": "execute_result"
    }
   ],
   "source": [
    "'''4th Question\n",
    "* we can achive data abstraction.\n",
    "1 absrtaction through function\n",
    "2 abstraction through classes\n",
    "3 through ABC abstraction method\n",
    "4 Encapsulation '''\n"
   ]
  },
  {
   "cell_type": "code",
   "execution_count": 22,
   "id": "8667b995-a9cd-4bbf-a1ec-87f48401b4a9",
   "metadata": {},
   "outputs": [],
   "source": [
    "''' 5th Question\n",
    "if i can't use @abstractmethod in other class then it give me an error'''\n",
    "from abc import ABC, abstractmethod\n",
    "class demo(ABC):\n",
    "    @abstractmethod\n",
    "    def area(self):\n",
    "        pass\n",
    "    \n",
    "    @abstractmethod\n",
    "    def perimeter(self):\n",
    "        pass\n",
    "    \n",
    "class square(demo):\n",
    "    pass"
   ]
  },
  {
   "cell_type": "code",
   "execution_count": 23,
   "id": "3ec4dddc-7270-4dd8-862f-0df10e83808b",
   "metadata": {},
   "outputs": [
    {
     "ename": "TypeError",
     "evalue": "Can't instantiate abstract class demo with abstract methods area, perimeter",
     "output_type": "error",
     "traceback": [
      "\u001b[0;31m---------------------------------------------------------------------------\u001b[0m",
      "\u001b[0;31mTypeError\u001b[0m                                 Traceback (most recent call last)",
      "Cell \u001b[0;32mIn[23], line 1\u001b[0m\n\u001b[0;32m----> 1\u001b[0m d \u001b[38;5;241m=\u001b[39m \u001b[43mdemo\u001b[49m\u001b[43m(\u001b[49m\u001b[43m)\u001b[49m\n",
      "\u001b[0;31mTypeError\u001b[0m: Can't instantiate abstract class demo with abstract methods area, perimeter"
     ]
    }
   ],
   "source": [
    "'''we can't creat a instance of abstraction class'''\n",
    "d = demo()"
   ]
  },
  {
   "cell_type": "code",
   "execution_count": 24,
   "id": "a3f06ca7-411f-4a90-978d-e458b798bd64",
   "metadata": {},
   "outputs": [
    {
     "ename": "TypeError",
     "evalue": "Can't instantiate abstract class square with abstract methods area, perimeter",
     "output_type": "error",
     "traceback": [
      "\u001b[0;31m---------------------------------------------------------------------------\u001b[0m",
      "\u001b[0;31mTypeError\u001b[0m                                 Traceback (most recent call last)",
      "Cell \u001b[0;32mIn[24], line 1\u001b[0m\n\u001b[0;32m----> 1\u001b[0m s \u001b[38;5;241m=\u001b[39m \u001b[43msquare\u001b[49m\u001b[43m(\u001b[49m\u001b[43m)\u001b[49m\n",
      "\u001b[0;31mTypeError\u001b[0m: Can't instantiate abstract class square with abstract methods area, perimeter"
     ]
    }
   ],
   "source": [
    "s = square()"
   ]
  },
  {
   "cell_type": "code",
   "execution_count": null,
   "id": "d24255d8-d1e6-42bf-ae5e-7b9df4c2a44f",
   "metadata": {},
   "outputs": [],
   "source": []
  }
 ],
 "metadata": {
  "kernelspec": {
   "display_name": "Python 3 (ipykernel)",
   "language": "python",
   "name": "python3"
  },
  "language_info": {
   "codemirror_mode": {
    "name": "ipython",
    "version": 3
   },
   "file_extension": ".py",
   "mimetype": "text/x-python",
   "name": "python",
   "nbconvert_exporter": "python",
   "pygments_lexer": "ipython3",
   "version": "3.10.8"
  }
 },
 "nbformat": 4,
 "nbformat_minor": 5
}
